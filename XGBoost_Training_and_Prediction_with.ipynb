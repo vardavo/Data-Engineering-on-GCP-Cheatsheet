{
  "nbformat": 4,
  "nbformat_minor": 0,
  "metadata": {
    "colab": {
      "name": "XGBoost-Training_and_Prediction_with.ipynb",
      "provenance": [],
      "include_colab_link": true
    },
    "kernelspec": {
      "display_name": "Python 3",
      "language": "python",
      "name": "python3"
    }
  },
  "cells": [
    {
      "cell_type": "markdown",
      "metadata": {
        "id": "view-in-github",
        "colab_type": "text"
      },
      "source": [
        "<a href=\"https://colab.research.google.com/github/vardavo/Data-Engineering-on-GCP-Cheatsheet/blob/master/XGBoost_Training_and_Prediction_with.ipynb\" target=\"_parent\"><img src=\"https://colab.research.google.com/assets/colab-badge.svg\" alt=\"Open In Colab\"/></a>"
      ]
    },
    {
      "cell_type": "code",
      "metadata": {
        "deletable": true,
        "editable": true,
        "id": "NDGnTTy8jV1w",
        "colab_type": "code",
        "colab": {}
      },
      "source": [
        "# Copyright 2019 Google LLC\n",
        "#\n",
        "# Licensed under the Apache License, Version 2.0 (the \"License\");\n",
        "# you may not use this file except in compliance with the License.\n",
        "# You may obtain a copy of the License at\n",
        "#\n",
        "# https://www.apache.org/licenses/LICENSE-2.0\n",
        "#\n",
        "# Unless required by applicable law or agreed to in writing, software\n",
        "# distributed under the License is distributed on an \"AS IS\" BASIS,\n",
        "# WITHOUT WARRANTIES OR CONDITIONS OF ANY KIND, either express or implied.\n",
        "# See the License for the specific language governing permissions and\n",
        "# limitations under the License."
      ],
      "execution_count": null,
      "outputs": []
    },
    {
      "cell_type": "markdown",
      "metadata": {
        "deletable": true,
        "editable": true,
        "id": "yjOz8t77jV18",
        "colab_type": "text"
      },
      "source": [
        "## Overview\n",
        "This notebook uses the [Census Income Data Set](https://archive.ics.uci.edu/ml/datasets/Census+Income) to demonstrate how to train a model and generate local predictions using XGBoost."
      ]
    },
    {
      "cell_type": "markdown",
      "metadata": {
        "deletable": true,
        "editable": true,
        "id": "uSEpQU7hjV1_",
        "colab_type": "text"
      },
      "source": [
        "##  Dataset\n",
        "The [Census Income Data Set](https://archive.ics.uci.edu/ml/datasets/Census+Income) that this sample\n",
        "uses for training is provided by the [UC Irvine Machine Learning\n",
        "Repository](https://archive.ics.uci.edu/ml/datasets/)."
      ]
    },
    {
      "cell_type": "markdown",
      "metadata": {
        "id": "e5Nakne2jV2B",
        "colab_type": "text"
      },
      "source": [
        "### Disclaimer\n",
        "This dataset is provided by a third party. Google provides no representation,\n",
        "warranty, or other guarantees about the validity or any other aspects of this dataset."
      ]
    },
    {
      "cell_type": "markdown",
      "metadata": {
        "deletable": true,
        "editable": true,
        "id": "HeYyqH-MjV2C",
        "colab_type": "text"
      },
      "source": [
        "## Install Packages and dependencies\n",
        "\n",
        "Install addional dependencies not installed in your Notebook environment\n",
        "(e.g. XGBoost, adanet, tf-hub)"
      ]
    },
    {
      "cell_type": "code",
      "metadata": {
        "deletable": true,
        "editable": true,
        "id": "_Ac5CudajV2D",
        "colab_type": "code",
        "colab": {}
      },
      "source": [
        "%pip install xgboost"
      ],
      "execution_count": null,
      "outputs": []
    },
    {
      "cell_type": "markdown",
      "metadata": {
        "deletable": true,
        "editable": true,
        "id": "adRL3bIhjV2H",
        "colab_type": "text"
      },
      "source": [
        "# Build your model\n",
        "\n",
        "We will create an XGBoost model and then perform local predictions, proceed to define \n",
        "imports."
      ]
    },
    {
      "cell_type": "code",
      "metadata": {
        "deletable": true,
        "editable": true,
        "id": "sh4CdAQvjV2I",
        "colab_type": "code",
        "colab": {}
      },
      "source": [
        "import datetime\n",
        "import os\n",
        "\n",
        "import pandas as pd\n",
        "import xgboost as xgb\n",
        "import numpy as np\n",
        "\n",
        "from sklearn.base import BaseEstimator, TransformerMixin\n",
        "from sklearn.preprocessing import StandardScaler\n",
        "from sklearn.pipeline import FeatureUnion, make_pipeline\n",
        "\n",
        "import warnings\n",
        "warnings.filterwarnings(action='ignore', category=DeprecationWarning)"
      ],
      "execution_count": null,
      "outputs": []
    },
    {
      "cell_type": "markdown",
      "metadata": {
        "deletable": true,
        "editable": true,
        "id": "xI8m6HkgjV2M",
        "colab_type": "text"
      },
      "source": [
        "### Download the Data\n",
        "\n",
        "We can simply download the dataset from [UC Irvine Machine Learning\n",
        "Repository](https://archive.ics.uci.edu/ml/datasets/) to our local machine:"
      ]
    },
    {
      "cell_type": "code",
      "metadata": {
        "deletable": true,
        "editable": true,
        "id": "wizFDVyYjV2N",
        "colab_type": "code",
        "colab": {}
      },
      "source": [
        "!wget https://archive.ics.uci.edu/ml/machine-learning-databases/adult/adult.data"
      ],
      "execution_count": null,
      "outputs": []
    },
    {
      "cell_type": "markdown",
      "metadata": {
        "deletable": true,
        "editable": true,
        "id": "sTrbGPMfjV2R",
        "colab_type": "text"
      },
      "source": [
        "## Loading the Data\n",
        "\n",
        "We'll use Pandas to load the dataset as a DataFrame:"
      ]
    },
    {
      "cell_type": "code",
      "metadata": {
        "deletable": true,
        "editable": true,
        "id": "jwn4wLySjV2T",
        "colab_type": "code",
        "colab": {}
      },
      "source": [
        "census_data_filename = './adult.data'\n",
        "\n",
        "# These are the column labels from the census data files\n",
        "COLUMNS = (\n",
        "    'age',\n",
        "    'workclass',\n",
        "    'fnlwgt',\n",
        "    'education',\n",
        "    'education-num',\n",
        "    'marital-status',\n",
        "    'occupation',\n",
        "    'relationship',\n",
        "    'race',\n",
        "    'sex',\n",
        "    'capital-gain',\n",
        "    'capital-loss',\n",
        "    'hours-per-week',\n",
        "    'native-country',\n",
        "    'income-level'\n",
        ")\n",
        "\n",
        "# Load the training census dataset\n",
        "with open(census_data_filename, 'r') as train_data:\n",
        "    raw_training_data = pd.read_csv(train_data, header=None, names=COLUMNS)"
      ],
      "execution_count": null,
      "outputs": []
    },
    {
      "cell_type": "markdown",
      "metadata": {
        "deletable": true,
        "editable": true,
        "id": "5h0ea9M_jV2W",
        "colab_type": "text"
      },
      "source": [
        "Now, let's take a look at the data to have a better understanding of it:"
      ]
    },
    {
      "cell_type": "code",
      "metadata": {
        "deletable": true,
        "editable": true,
        "id": "D7o3Vjg8jV2Y",
        "colab_type": "code",
        "colab": {}
      },
      "source": [
        "raw_training_data.head()"
      ],
      "execution_count": null,
      "outputs": []
    },
    {
      "cell_type": "markdown",
      "metadata": {
        "deletable": true,
        "editable": true,
        "id": "9EN4WAO6jV2d",
        "colab_type": "text"
      },
      "source": [
        "First, let's separate the features and the target and convert them to numpy objects:"
      ]
    },
    {
      "cell_type": "code",
      "metadata": {
        "deletable": true,
        "editable": true,
        "id": "BXwz67OZjV2g",
        "colab_type": "code",
        "colab": {}
      },
      "source": [
        "raw_features = raw_training_data.drop('income-level', axis=1).values\n",
        "# Create training labels list\n",
        "train_labels = (raw_training_data['income-level'] == ' >50K').values"
      ],
      "execution_count": null,
      "outputs": []
    },
    {
      "cell_type": "markdown",
      "metadata": {
        "deletable": true,
        "editable": true,
        "id": "NmqorOqQjV2l",
        "colab_type": "text"
      },
      "source": [
        "## Data Preprocessing\n",
        "\n",
        "The features are a combination of both numerical and categorical values. As a part of data preparation before we can feed the data to the modell, we will need to convert the categorical features to numerical. We will use scikit-learn libraries to prepare the data.\n",
        "\n",
        "### Why scikit-learn?\n",
        "scikit-learn has an amazing API to create and train a pipeline to preprocess the data before feeding to the model. We will use a custom pipeline in this notebook to prepare the data for XGBoost:"
      ]
    },
    {
      "cell_type": "code",
      "metadata": {
        "deletable": true,
        "editable": true,
        "id": "C5xWUeiijV2m",
        "colab_type": "code",
        "colab": {}
      },
      "source": [
        "class PositionalSelector(BaseEstimator, TransformerMixin):\n",
        "    def __init__(self, positions):\n",
        "        self.positions = positions\n",
        "\n",
        "    def fit(self, X, y=None):\n",
        "        return self\n",
        "\n",
        "    def transform(self, X):\n",
        "        return np.array(X)[:, self.positions]\n",
        "\n",
        "\n",
        "class StripString(BaseEstimator, TransformerMixin):\n",
        "    def fit(self, X, y=None):\n",
        "        return self\n",
        "\n",
        "    def transform(self, X):\n",
        "        strip = np.vectorize(str.strip)\n",
        "        return strip(np.array(X))\n",
        "\n",
        "\n",
        "class SimpleOneHotEncoder(BaseEstimator, TransformerMixin):\n",
        "    def fit(self, X, y=None):\n",
        "        self.values = []\n",
        "        for c in range(X.shape[1]):\n",
        "            Y = X[:, c]\n",
        "            values = {v: i for i, v in enumerate(np.unique(Y))}\n",
        "            self.values.append(values)\n",
        "        return self\n",
        "\n",
        "    def transform(self, X):\n",
        "        X = np.array(X)\n",
        "        matrices = []\n",
        "        for c in range(X.shape[1]):\n",
        "            Y = X[:, c]\n",
        "            matrix = np.zeros(shape=(len(Y), len(self.values[c])), dtype=np.int8)\n",
        "            for i, x in enumerate(Y):\n",
        "                if x in self.values[c]:\n",
        "                    matrix[i][self.values[c][x]] = 1\n",
        "            matrices.append(matrix)\n",
        "        res = np.concatenate(matrices, axis=1)\n",
        "        return res"
      ],
      "execution_count": null,
      "outputs": []
    },
    {
      "cell_type": "markdown",
      "metadata": {
        "deletable": true,
        "editable": true,
        "id": "vwkBQ5MZjV2p",
        "colab_type": "text"
      },
      "source": [
        "To simplify things a little, we create a pipeline object that only uses the following features:\n",
        "* Categorical: workclass, education, marital-status, and relationship\n",
        "* Numerical: age and hours-per-week\n",
        "\n",
        "Now we can create a pipeline object and train it to process our data"
      ]
    },
    {
      "cell_type": "code",
      "metadata": {
        "deletable": true,
        "editable": true,
        "id": "2S7OXotujV2q",
        "colab_type": "code",
        "colab": {}
      },
      "source": [
        "# Categorical features: age and hours-per-week\n",
        "# Numerical features: workclass, marital-status, and relationship\n",
        "numerical_indices = [0, 12]  # age-num, and hours-per-week\n",
        "categorical_indices = [1, 3, 5, 7]  # workclass, education, marital-status, and relationship\n",
        "\n",
        "p1 = make_pipeline(PositionalSelector(categorical_indices), \n",
        "                   StripString(), \n",
        "                   SimpleOneHotEncoder())\n",
        "p2 = make_pipeline(PositionalSelector(numerical_indices), \n",
        "                   StandardScaler())\n",
        "\n",
        "pipeline = FeatureUnion([\n",
        "    ('numericals', p1),\n",
        "    ('categoricals', p2),\n",
        "])\n",
        "\n",
        "train_features = pipeline.fit_transform(raw_features)"
      ],
      "execution_count": null,
      "outputs": []
    },
    {
      "cell_type": "markdown",
      "metadata": {
        "deletable": true,
        "editable": true,
        "id": "URtSLQsAjV2u",
        "colab_type": "text"
      },
      "source": [
        "Our dataset is ready for training the model now:"
      ]
    },
    {
      "cell_type": "code",
      "metadata": {
        "deletable": true,
        "editable": true,
        "id": "sH2GPyecjV2v",
        "colab_type": "code",
        "colab": {}
      },
      "source": [
        "# train the model\n",
        "model = xgb.XGBClassifier(max_depth=4)\n",
        "model.fit(train_features, train_labels)"
      ],
      "execution_count": null,
      "outputs": []
    },
    {
      "cell_type": "markdown",
      "metadata": {
        "deletable": true,
        "editable": true,
        "id": "l8hZYGfljV2y",
        "colab_type": "text"
      },
      "source": [
        "Once we train the model, we can simply just save it:"
      ]
    },
    {
      "cell_type": "code",
      "metadata": {
        "deletable": true,
        "editable": true,
        "id": "hDC9Z1LQjV2z",
        "colab_type": "code",
        "colab": {}
      },
      "source": [
        "# save the mode\n",
        "model.save_model('model.bst')"
      ],
      "execution_count": null,
      "outputs": []
    },
    {
      "cell_type": "markdown",
      "metadata": {
        "deletable": true,
        "editable": true,
        "id": "78mQAVvjjV23",
        "colab_type": "text"
      },
      "source": [
        "## Predictions\n",
        "In order to make prediction, we need both `pipline` and `model` objects:"
      ]
    },
    {
      "cell_type": "code",
      "metadata": {
        "deletable": true,
        "editable": true,
        "id": "VXKM5HULjV25",
        "colab_type": "code",
        "colab": {}
      },
      "source": [
        "instances = [[\n",
        "    42, ' State-gov', 77516, ' Bachelors', 13, ' Never-married',\n",
        "    ' Adm-clerical', ' Not-in-family', ' White', ' Male', 2174, 0, 40,\n",
        "    ' United-States'\n",
        "],\n",
        "    [\n",
        "        50, ' Self-emp-not-inc', 83311, ' Bachelors', 13,\n",
        "        ' Married-civ-spouse', ' Exec-managerial', ' Husband',\n",
        "        ' White', ' Male', 0, 0, 10, ' United-States'\n",
        "    ]]"
      ],
      "execution_count": null,
      "outputs": []
    },
    {
      "cell_type": "markdown",
      "metadata": {
        "deletable": true,
        "editable": true,
        "id": "MaK0izsBjV3G",
        "colab_type": "text"
      },
      "source": [
        "First, we need to preprocess the instances:"
      ]
    },
    {
      "cell_type": "code",
      "metadata": {
        "deletable": true,
        "editable": true,
        "id": "k9b9CcXvjV3H",
        "colab_type": "code",
        "colab": {}
      },
      "source": [
        "processed_instances = pipeline.transform(instances)"
      ],
      "execution_count": null,
      "outputs": []
    },
    {
      "cell_type": "markdown",
      "metadata": {
        "deletable": true,
        "editable": true,
        "id": "dUNwkEy2jV3O",
        "colab_type": "text"
      },
      "source": [
        "Then we'll pass the processed data to the model for classification:"
      ]
    },
    {
      "cell_type": "code",
      "metadata": {
        "deletable": true,
        "editable": true,
        "id": "VH0PyfOvjV3P",
        "colab_type": "code",
        "colab": {}
      },
      "source": [
        "model.predict(processed_instances)"
      ],
      "execution_count": null,
      "outputs": []
    }
  ]
}